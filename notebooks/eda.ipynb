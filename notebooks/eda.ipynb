{
 "cells": [
  {
   "cell_type": "markdown",
   "metadata": {},
   "source": [
    "# Data access and visualization\n",
    "\n",
    "The first thing one must do is to load the data and being able to visualize it."
   ]
  },
  {
   "cell_type": "code",
   "execution_count": null,
   "metadata": {},
   "outputs": [],
   "source": [
    "import core.dataloader as crloader\n",
    "import core.data_plots as crplt\n",
    "import core.preprocesses as crpre"
   ]
  },
  {
   "cell_type": "code",
   "execution_count": null,
   "metadata": {},
   "outputs": [],
   "source": [
    "# Load the data\n",
    "data = crloader.load_data(data_path='../data/physionet.org/files/ptb-xl/1.0.2',\n",
    "                       sampling_rate=100)\n",
    "print(\"\\nData loaded.\\n\")\n",
    "\n",
    "# Access a specific patient's data\n",
    "patient_id = 9898\n",
    "ecg_ids = crloader.get_patient_id_ecg_ids(patient_id=patient_id,\n",
    "                                          annotations=data['train']['annotations'])\n",
    "\n",
    "print(f\"Patient {patient_id} has {len(ecg_ids)} ECGs.\")\n",
    "ecg_id, ecg_date = ecg_ids[-1]  # most recent\n",
    "\n",
    "signals = crloader.get_signal_from_ecg_id(ecg_id=ecg_id,\n",
    "                                          raw_data=data['train']['data'],\n",
    "                                          channel=-1)\n",
    "\n",
    "annots = crloader.get_annotations_from_ecg_id(ecg_id=ecg_id,\n",
    "                                              annotations=data['train']['annotations'])"
   ]
  },
  {
   "cell_type": "code",
   "execution_count": null,
   "metadata": {},
   "outputs": [],
   "source": [
    "# Visualize the ECG signal for all channels and annotations\n",
    "data_display = crplt.plot_ecg_channels(raw_data=data['train']['data'][ecg_id],\n",
    "                                       title=f\"ECG ID {ecg_id} from {ecg_date}\")\n",
    "\n",
    "print(annots)"
   ]
  },
  {
   "cell_type": "markdown",
   "metadata": {},
   "source": [
    "# Data preprocess\n",
    "\n",
    "By preprocessing the signals, one can make them smoother, remove outliers, etc."
   ]
  },
  {
   "cell_type": "markdown",
   "metadata": {},
   "source": [
    "### Filtering\n",
    "\n",
    "A common pre-process when working with signals is smoothing/filtering. That allows to remove some outliers and noise from the signal for a better analysis.\n",
    "\n",
    "Some of the most used signal filtering techniques are:\n",
    "- Savitzky-Golay filter\n",
    "- Gaussian filter\n",
    "- Median filter\n",
    "- Low-pass filter\n",
    "- High-pass filter\n",
    "- Butterworth filter (band-pass filter)\n",
    "- Convolution filter\n",
    "\n",
    "The biggest challenge of filtering is the manual tunning. Finding the right parameters is a empirical work."
   ]
  },
  {
   "cell_type": "code",
   "execution_count": null,
   "metadata": {},
   "outputs": [],
   "source": [
    "channel = 0\n",
    "original_signal = signals[:, channel]\n",
    "savgol_ecg = crpre.smooth_signal_savgol(ecg_signal=original_signal,\n",
    "                                        window_length=5,\n",
    "                                        polyorder = 2)\n",
    "crplt.plot_filtered_signal(ecg_signal=original_signal,\n",
    "                           smoothed_ecg=savgol_ecg,\n",
    "                           title=\"Savitzky-Golay filter\")"
   ]
  },
  {
   "cell_type": "code",
   "execution_count": null,
   "metadata": {},
   "outputs": [],
   "source": [
    "gaussian_ecg = crpre.smooth_signal_gaussian(ecg_signal=original_signal, sigma=3)\n",
    "crplt.plot_filtered_signal(ecg_signal=original_signal,\n",
    "                           smoothed_ecg=gaussian_ecg,\n",
    "                           title=\"Gaussian filter\")"
   ]
  },
  {
   "cell_type": "code",
   "execution_count": null,
   "metadata": {},
   "outputs": [],
   "source": [
    "median_ecg = crpre.smooth_signal_median(ecg_signal=original_signal, kernel_size=3)\n",
    "crplt.plot_filtered_signal(ecg_signal=original_signal,\n",
    "                           smoothed_ecg=median_ecg,\n",
    "                           title=\"Median filter\")"
   ]
  },
  {
   "cell_type": "code",
   "execution_count": null,
   "metadata": {},
   "outputs": [],
   "source": [
    "lowcut = 45\n",
    "lowpass_ecg = crpre.smooth_signal_lowpass(ecg_signal=original_signal,\n",
    "                                          sample_rate=100,\n",
    "                                          order_filter=5,\n",
    "                                          cut=lowcut)\n",
    "crplt.plot_filtered_signal(ecg_signal=original_signal,\n",
    "                           smoothed_ecg=lowpass_ecg,\n",
    "                           title=f\"Low-pass filter at {lowcut} Hz\")"
   ]
  },
  {
   "cell_type": "code",
   "execution_count": null,
   "metadata": {},
   "outputs": [],
   "source": [
    "highcut = 0.5\n",
    "highpass_ecg = crpre.smooth_signal_highpass(ecg_signal=original_signal,\n",
    "                                          sample_rate=100,\n",
    "                                          order_filter=5,\n",
    "                                          cut=highcut)\n",
    "crplt.plot_filtered_signal(ecg_signal=original_signal,\n",
    "                           smoothed_ecg=lowpass_ecg,\n",
    "                           title=f\"High-pass filter at {highcut} Hz\")"
   ]
  },
  {
   "cell_type": "code",
   "execution_count": null,
   "metadata": {},
   "outputs": [],
   "source": [
    "lowcut = 0.5  # avoid the breathing noise\n",
    "highcut = 45  # avoid power-line noise\n",
    "band_ecg = crpre.smooth_signal_butterworth(ecg_signal=original_signal,\n",
    "                                           sample_rate=100,\n",
    "                                           order_filter=5,\n",
    "                                           lowcut=lowcut,\n",
    "                                           highcut=highcut)\n",
    "crplt.plot_filtered_signal(ecg_signal=original_signal,\n",
    "                           smoothed_ecg=band_ecg,\n",
    "                           title=f\"Butterworth filter ({lowcut}Hz - {highcut}Hz)\")"
   ]
  },
  {
   "cell_type": "code",
   "execution_count": null,
   "metadata": {},
   "outputs": [],
   "source": [
    "kernel = 7\n",
    "conv_ecg = crpre.smooth_signal_convolution(ecg_signal=original_signal,\n",
    "                                           kernel=kernel)\n",
    "crplt.plot_filtered_signal(ecg_signal=original_signal,\n",
    "                           smoothed_ecg=conv_ecg,\n",
    "                           title=f\"Convolution filter (kernel wide {kernel})\")"
   ]
  },
  {
   "cell_type": "markdown",
   "metadata": {},
   "source": [
    "As mentioned, tunning a filter is hard work. As an example, I show the influence of difference frequency cuts on a low-filter."
   ]
  },
  {
   "cell_type": "code",
   "execution_count": null,
   "metadata": {},
   "outputs": [],
   "source": [
    "lowpass_ecgs = []\n",
    "cutoffs = []\n",
    "for lowcut in range(40, 50, 2):\n",
    "    lowpass_ecg = crpre.smooth_signal_lowpass(ecg_signal=original_signal,\n",
    "                                            sample_rate=100,\n",
    "                                            order_filter=5,\n",
    "                                            cut=lowcut)\n",
    "    lowpass_ecgs.append(lowpass_ecg)\n",
    "    cutoffs.append(f\"{lowcut}Hz\")\n",
    "\n",
    "crplt.plot_filtered_signals(ecg_signal=original_signal,\n",
    "                           smoothed_ecgs=lowpass_ecgs,\n",
    "                           labels=cutoffs,\n",
    "                           title=\"Low-pass filter search\")"
   ]
  },
  {
   "cell_type": "markdown",
   "metadata": {},
   "source": [
    "An application of the filtering is to remove the baseline wander.\n",
    "\n",
    "Baseline wander is a typical artifact that corrupts the ECG. It can be caused by a variety of noise sources including respiration, body movements, and poor electrode contact. Its spectral content is usually confined to frequencies below 0.5 Hz.\n",
    "\n",
    "The majority of baseline wander removal techniques can change the ECG and compromise its clinical relevance. For that reason, it is not a easy process.\n",
    "\n",
    "A very basic baseline wander estimator was implemented using a sequence of median filter with different kernel sizes. The kernel size is estimated based on the sampling rate and the window duration in seconds."
   ]
  },
  {
   "cell_type": "code",
   "execution_count": null,
   "metadata": {},
   "outputs": [],
   "source": [
    "wander = crpre.estimate_baseline_wander(ecg_signal=original_signal,durations=[0.5, 2], sample_rate=100)\n",
    "rem_wander_ecg = crpre.remove_baseline_wander(ecg_signal=original_signal,durations=[0.5, 2], sample_rate=100)\n",
    "\n",
    "crplt.plot_filtered_signals(ecg_signal=original_signal,\n",
    "                           smoothed_ecgs=[wander, rem_wander_ecg],\n",
    "                           labels=['estimated wander', 'filtered'],\n",
    "                           title=\"Remove baseline wander\")"
   ]
  },
  {
   "cell_type": "markdown",
   "metadata": {},
   "source": [
    "# Data analysis\n",
    "\n",
    "Once we have the ECG signal, there is some basic analysis that one can do.\n",
    "One of the most relevant information from an ECG is to look at the [QRS complex](https://en.wikipedia.org/wiki/QRS_complex).\n",
    "In layman terms:\n",
    "- R peak are the highest peaks\n",
    "- Q peaks are the minimum peak before the R peak\n",
    "- S peaks are the minimum peak after the R peak\n",
    "\n",
    "The Q and S are estimated based on the R peaks. And from the R peaks one can estimate the heart rate.\n",
    "\n",
    "Some of the most used detectors are:\n",
    "- Pan and Tompkins\n",
    "- Hamilton\n",
    "- Christov\n",
    "- Stationary Wavelet Transform\n",
    "- Two Moving Average\n",
    "\n",
    "And you can find an implementation [here](https://github.com/berndporr/py-ecg-detectors).\n",
    "After trying it, I was not satisfied with the results. In most of the cases the R peaks were completly off.\n",
    "\n",
    "I implemented my own [Pan and Tompkins filter](https://en.wikipedia.org/wiki/Pan%E2%80%93Tompkins_algorithm)."
   ]
  },
  {
   "cell_type": "code",
   "execution_count": null,
   "metadata": {},
   "outputs": [],
   "source": [
    "from core.pan_tompkins import PanTompkinsQRS\n",
    "peak_detector = PanTompkinsQRS(signal=original_signal, sample_rate=100, window_size=0.15)\n",
    "\n",
    "crplt.plot_signal(signal=peak_detector.band_pass_sgn,\n",
    "                  xlabel=\"Samples\",\n",
    "                  ylabel=\"Amplitude\",\n",
    "                  title=\"Bandpassed signal\")\n",
    "\n",
    "crplt.plot_signal(signal=peak_detector.mov_win_sgn,\n",
    "                  xlabel=\"Samples\",\n",
    "                  ylabel=\"Amplitude\",\n",
    "                  title=\"Moving window integrated signal\")\n",
    "\n",
    "peak_detector.find_r_peaks()\n",
    "\n",
    "crplt.plot_signal_and_rpeaks(signal=original_signal,\n",
    "                             rpeaks_loc=peak_detector.tuned_peaks,\n",
    "                             xlabel=\"Samples\",\n",
    "                             ylabel=\"Amplitude\",\n",
    "                             title=\"R peaks\")\n",
    "\n",
    "heart_bpm = peak_detector.estimate_heartrate()\n",
    "print(f\"Heart rate: {heart_bpm:.2f} bpm\")\n"
   ]
  }
 ],
 "metadata": {
  "kernelspec": {
   "display_name": "Python 3 (ipykernel)",
   "language": "python",
   "name": "python3"
  },
  "language_info": {
   "codemirror_mode": {
    "name": "ipython",
    "version": 3
   },
   "file_extension": ".py",
   "mimetype": "text/x-python",
   "name": "python",
   "nbconvert_exporter": "python",
   "pygments_lexer": "ipython3",
   "version": "3.11.9"
  }
 },
 "nbformat": 4,
 "nbformat_minor": 4
}
